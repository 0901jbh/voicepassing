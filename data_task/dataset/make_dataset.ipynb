{
 "cells": [
  {
   "cell_type": "code",
   "execution_count": 18,
   "metadata": {},
   "outputs": [],
   "source": [
    "import pandas as pd\n",
    "import numpy as np\n",
    "import os\n",
    "import re"
   ]
  },
  {
   "attachments": {},
   "cell_type": "markdown",
   "metadata": {},
   "source": [
    "# 1. Load Data"
   ]
  },
  {
   "cell_type": "code",
   "execution_count": 9,
   "metadata": {},
   "outputs": [],
   "source": [
    "folder_path = \"../data/\"\n",
    "final_data_path = \"../data/annotated_data_final.xlsx\"\n",
    "\n",
    "\n",
    "dfs = []\n",
    "\n",
    "files = [file for file in os.listdir(folder_path) if file[0].isnumeric()]\n",
    "\n",
    "for file in files:\n",
    "    df = pd.read_csv(os.path.join(folder_path, file), index_col = 0)\n",
    "    dfs.append(df)\n",
    "else:\n",
    "    df = pd.read_excel(final_data_path, index_col = 0)\n",
    "    dfs.append(df)\n",
    "\n",
    "\n",
    "dfs = pd.concat(dfs, ignore_index=True)\n"
   ]
  },
  {
   "attachments": {},
   "cell_type": "markdown",
   "metadata": {},
   "source": [
    "# 중복 제거"
   ]
  },
  {
   "cell_type": "code",
   "execution_count": 13,
   "metadata": {},
   "outputs": [],
   "source": [
    "dfs.drop_duplicates(inplace = True, ignore_index= True)"
   ]
  },
  {
   "cell_type": "code",
   "execution_count": 19,
   "metadata": {},
   "outputs": [],
   "source": [
    "english_words_pattern = re.compile(r'\\b[a-zA-Z]+\\b')\n",
    "english_mask = dfs['text'].apply(lambda row: bool(english_words_pattern.search(str(row))))\n",
    "dfs_aft = dfs[~english_mask]"
   ]
  },
  {
   "cell_type": "code",
   "execution_count": 22,
   "metadata": {},
   "outputs": [],
   "source": [
    "dfs_aft.to_excel(\"../data/aft_drop.xlsx\")"
   ]
  },
  {
   "attachments": {},
   "cell_type": "markdown",
   "metadata": {},
   "source": [
    "# 데이터 분포 확인"
   ]
  },
  {
   "cell_type": "code",
   "execution_count": 24,
   "metadata": {},
   "outputs": [
    {
     "name": "stdout",
     "output_type": "stream",
     "text": [
      "label 0 has 491 datas\n",
      "label 1 has 4908 datas\n",
      "label 2 has 4584 datas\n",
      "label 3 has 565 datas\n"
     ]
    }
   ],
   "source": [
    "labels = list(range(4))\n",
    "\n",
    "for label in labels:\n",
    "    temp_df = dfs_aft[dfs_aft['label'] == label]\n",
    "    print(f\"label {label} has {len(temp_df)} datas\")"
   ]
  },
  {
   "cell_type": "code",
   "execution_count": 26,
   "metadata": {},
   "outputs": [],
   "source": [
    "# 정상 통화 데이터에서 4000개 추가할 것\n",
    " \n",
    "normal_data = pd.read_excel(\"../data/normal_data.xlsx\", index_col=0)\n",
    "sampled_data = normal_data.sample(n = 4000, replace = False, random_state = 42, ignore_index = True)"
   ]
  },
  {
   "cell_type": "code",
   "execution_count": 39,
   "metadata": {},
   "outputs": [
    {
     "data": {
      "text/html": [
       "<div>\n",
       "<style scoped>\n",
       "    .dataframe tbody tr th:only-of-type {\n",
       "        vertical-align: middle;\n",
       "    }\n",
       "\n",
       "    .dataframe tbody tr th {\n",
       "        vertical-align: top;\n",
       "    }\n",
       "\n",
       "    .dataframe thead th {\n",
       "        text-align: right;\n",
       "    }\n",
       "</style>\n",
       "<table border=\"1\" class=\"dataframe\">\n",
       "  <thead>\n",
       "    <tr style=\"text-align: right;\">\n",
       "      <th></th>\n",
       "      <th>text</th>\n",
       "      <th>label</th>\n",
       "      <th>augmented</th>\n",
       "    </tr>\n",
       "  </thead>\n",
       "  <tbody>\n",
       "    <tr>\n",
       "      <th>0</th>\n",
       "      <td>내일 와서 계약하겠습니다</td>\n",
       "      <td>0.0</td>\n",
       "      <td>0.0</td>\n",
       "    </tr>\n",
       "    <tr>\n",
       "      <th>1</th>\n",
       "      <td>이 제품은 스킨이랑 에센스랑 같이 되죠?</td>\n",
       "      <td>0.0</td>\n",
       "      <td>0.0</td>\n",
       "    </tr>\n",
       "    <tr>\n",
       "      <th>2</th>\n",
       "      <td>성인 두 명이에요</td>\n",
       "      <td>0.0</td>\n",
       "      <td>0.0</td>\n",
       "    </tr>\n",
       "    <tr>\n",
       "      <th>3</th>\n",
       "      <td>그릴 사용료가 얼마입니까?</td>\n",
       "      <td>0.0</td>\n",
       "      <td>0.0</td>\n",
       "    </tr>\n",
       "    <tr>\n",
       "      <th>4</th>\n",
       "      <td>남자 커트 비용은 얼마인가요?</td>\n",
       "      <td>0.0</td>\n",
       "      <td>0.0</td>\n",
       "    </tr>\n",
       "  </tbody>\n",
       "</table>\n",
       "</div>"
      ],
      "text/plain": [
       "                     text  label  augmented\n",
       "0           내일 와서 계약하겠습니다    0.0        0.0\n",
       "1  이 제품은 스킨이랑 에센스랑 같이 되죠?    0.0        0.0\n",
       "2               성인 두 명이에요    0.0        0.0\n",
       "3          그릴 사용료가 얼마입니까?    0.0        0.0\n",
       "4        남자 커트 비용은 얼마인가요?    0.0        0.0"
      ]
     },
     "execution_count": 39,
     "metadata": {},
     "output_type": "execute_result"
    }
   ],
   "source": [
    "sampled_data.rename(columns = {\"SENTENCE\" : \"text\"}, inplace=True)\n",
    "sampled_data['label'] = np.zeros([len(sampled_data)])\n",
    "sampled_data['augmented'] = np.zeros([len(sampled_data)])\n",
    "\n",
    "sampled_data.head(5)"
   ]
  },
  {
   "cell_type": "code",
   "execution_count": 40,
   "metadata": {},
   "outputs": [],
   "source": [
    "total_data = pd.concat([dfs_aft, sampled_data], ignore_index=True)"
   ]
  },
  {
   "cell_type": "code",
   "execution_count": 41,
   "metadata": {},
   "outputs": [
    {
     "data": {
      "text/html": [
       "<div>\n",
       "<style scoped>\n",
       "    .dataframe tbody tr th:only-of-type {\n",
       "        vertical-align: middle;\n",
       "    }\n",
       "\n",
       "    .dataframe tbody tr th {\n",
       "        vertical-align: top;\n",
       "    }\n",
       "\n",
       "    .dataframe thead th {\n",
       "        text-align: right;\n",
       "    }\n",
       "</style>\n",
       "<table border=\"1\" class=\"dataframe\">\n",
       "  <thead>\n",
       "    <tr style=\"text-align: right;\">\n",
       "      <th></th>\n",
       "      <th>text</th>\n",
       "      <th>label</th>\n",
       "      <th>augmented</th>\n",
       "    </tr>\n",
       "  </thead>\n",
       "  <tbody>\n",
       "    <tr>\n",
       "      <th>0</th>\n",
       "      <td>왜냐하면 지금 이 김지호라는 사람이 전직 은행 사원인데 재직하고 있는 기간 동안에 ...</td>\n",
       "      <td>1.0</td>\n",
       "      <td>1.0</td>\n",
       "    </tr>\n",
       "    <tr>\n",
       "      <th>1</th>\n",
       "      <td>왜냐하면 지금사원 이 김지호라는 사람이 전직 은행 직원인데 재직하고 있는 기간 동안...</td>\n",
       "      <td>1.0</td>\n",
       "      <td>1.0</td>\n",
       "    </tr>\n",
       "    <tr>\n",
       "      <th>2</th>\n",
       "      <td>왜냐하면 지금 이 김지호라는 사람이 전직 은행 직원인데 재직하고 있는 기간 동안에 ...</td>\n",
       "      <td>1.0</td>\n",
       "      <td>1.0</td>\n",
       "    </tr>\n",
       "    <tr>\n",
       "      <th>3</th>\n",
       "      <td>혹시 재정권에서 본인이 개인 경보가 유출이 되었다고 따로 연락받으신 화기 없으시고요</td>\n",
       "      <td>1.0</td>\n",
       "      <td>1.0</td>\n",
       "    </tr>\n",
       "    <tr>\n",
       "      <th>4</th>\n",
       "      <td>혹시 금융권화기에서결합 본인이 개인 정보재정가 유출이 되었다고 따로 연락받으신 건 ...</td>\n",
       "      <td>1.0</td>\n",
       "      <td>1.0</td>\n",
       "    </tr>\n",
       "    <tr>\n",
       "      <th>...</th>\n",
       "      <td>...</td>\n",
       "      <td>...</td>\n",
       "      <td>...</td>\n",
       "    </tr>\n",
       "    <tr>\n",
       "      <th>14543</th>\n",
       "      <td>픽업 오시면 언제쯤 도착하시나요?</td>\n",
       "      <td>0.0</td>\n",
       "      <td>0.0</td>\n",
       "    </tr>\n",
       "    <tr>\n",
       "      <th>14544</th>\n",
       "      <td>그냥 솜이에요</td>\n",
       "      <td>0.0</td>\n",
       "      <td>0.0</td>\n",
       "    </tr>\n",
       "    <tr>\n",
       "      <th>14545</th>\n",
       "      <td>귤은 한 박스에 얼마에요?</td>\n",
       "      <td>0.0</td>\n",
       "      <td>0.0</td>\n",
       "    </tr>\n",
       "    <tr>\n",
       "      <th>14546</th>\n",
       "      <td>조금이라도 드시고 약 드세요</td>\n",
       "      <td>0.0</td>\n",
       "      <td>0.0</td>\n",
       "    </tr>\n",
       "    <tr>\n",
       "      <th>14547</th>\n",
       "      <td>사이즈는 톨사이즈로 하세요?</td>\n",
       "      <td>0.0</td>\n",
       "      <td>0.0</td>\n",
       "    </tr>\n",
       "  </tbody>\n",
       "</table>\n",
       "<p>14548 rows × 3 columns</p>\n",
       "</div>"
      ],
      "text/plain": [
       "                                                    text  label  augmented\n",
       "0      왜냐하면 지금 이 김지호라는 사람이 전직 은행 사원인데 재직하고 있는 기간 동안에 ...    1.0        1.0\n",
       "1      왜냐하면 지금사원 이 김지호라는 사람이 전직 은행 직원인데 재직하고 있는 기간 동안...    1.0        1.0\n",
       "2      왜냐하면 지금 이 김지호라는 사람이 전직 은행 직원인데 재직하고 있는 기간 동안에 ...    1.0        1.0\n",
       "3         혹시 재정권에서 본인이 개인 경보가 유출이 되었다고 따로 연락받으신 화기 없으시고요    1.0        1.0\n",
       "4      혹시 금융권화기에서결합 본인이 개인 정보재정가 유출이 되었다고 따로 연락받으신 건 ...    1.0        1.0\n",
       "...                                                  ...    ...        ...\n",
       "14543                                 픽업 오시면 언제쯤 도착하시나요?    0.0        0.0\n",
       "14544                                            그냥 솜이에요    0.0        0.0\n",
       "14545                                     귤은 한 박스에 얼마에요?    0.0        0.0\n",
       "14546                                    조금이라도 드시고 약 드세요    0.0        0.0\n",
       "14547                                    사이즈는 톨사이즈로 하세요?    0.0        0.0\n",
       "\n",
       "[14548 rows x 3 columns]"
      ]
     },
     "execution_count": 41,
     "metadata": {},
     "output_type": "execute_result"
    }
   ],
   "source": [
    "total_data"
   ]
  },
  {
   "cell_type": "code",
   "execution_count": 7,
   "metadata": {},
   "outputs": [],
   "source": [
    "total_data = total_data.sample(frac=1).reset_index(drop = True)\n",
    "total_data.to_excel(\"final_data.xlsx\")"
   ]
  },
  {
   "cell_type": "code",
   "execution_count": null,
   "metadata": {},
   "outputs": [],
   "source": []
  }
 ],
 "metadata": {
  "kernelspec": {
   "display_name": "venv",
   "language": "python",
   "name": "python3"
  },
  "language_info": {
   "codemirror_mode": {
    "name": "ipython",
    "version": 3
   },
   "file_extension": ".py",
   "mimetype": "text/x-python",
   "name": "python",
   "nbconvert_exporter": "python",
   "pygments_lexer": "ipython3",
   "version": "3.10.11"
  },
  "orig_nbformat": 4
 },
 "nbformat": 4,
 "nbformat_minor": 2
}
