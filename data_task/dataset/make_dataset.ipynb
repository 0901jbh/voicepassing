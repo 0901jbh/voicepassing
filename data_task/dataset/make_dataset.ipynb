{
 "cells": [
  {
   "cell_type": "code",
   "execution_count": 2,
   "metadata": {},
   "outputs": [],
   "source": [
    "import pandas as pd\n",
    "import numpy as np\n",
    "import os\n",
    "import re"
   ]
  },
  {
   "attachments": {},
   "cell_type": "markdown",
   "metadata": {},
   "source": [
    "# 1. Load Data"
   ]
  },
  {
   "cell_type": "code",
   "execution_count": 22,
   "metadata": {},
   "outputs": [],
   "source": [
    "final_data_path = \"../data/annotated_data_final.xlsx\"\n",
    "augmented_data_path = \"../data/dfs_bt_and_augmented.csv\"\n",
    "\n",
    "final_data = pd.read_excel(final_data_path, index_col = 0)\n",
    "augmented_data = pd.read_csv(augmented_data_path, index_col = 0)\n",
    "\n",
    "train_dataframe = pd.concat([final_data, augmented_data], ignore_index=True)\n",
    "\n",
    "final_test_data_path = \"../data/AnnotationData_TEST(JH).xlsx\"\n",
    "augmented_test_data_path = \"../data/test_data_concatenated.csv\"\n",
    "\n",
    "final_data = pd.read_excel(final_test_data_path, index_col = 0)\n",
    "augmented_data = pd.read_csv(augmented_test_data_path, index_col = 0)\n",
    "\n",
    "test_dataframe = pd.concat([final_data, augmented_data], ignore_index = True)"
   ]
  },
  {
   "attachments": {},
   "cell_type": "markdown",
   "metadata": {},
   "source": [
    "# 중복 제거"
   ]
  },
  {
   "cell_type": "code",
   "execution_count": 23,
   "metadata": {},
   "outputs": [],
   "source": [
    "train_dataframe.drop_duplicates(inplace = True, ignore_index= True)\n",
    "test_dataframe.drop_duplicates(inplace = True, ignore_index= True)"
   ]
  },
  {
   "attachments": {},
   "cell_type": "markdown",
   "metadata": {},
   "source": [
    "# 데이터 분포 확인"
   ]
  },
  {
   "cell_type": "code",
   "execution_count": 24,
   "metadata": {},
   "outputs": [
    {
     "name": "stdout",
     "output_type": "stream",
     "text": [
      "label 0 has 136 datas\n",
      "label 1 has 438 datas\n",
      "label 2 has 185 datas\n",
      "label 3 has 0 datas\n"
     ]
    },
    {
     "data": {
      "text/plain": [
       "' test\\nlabel 0 has 491 datas\\nlabel 1 has 1268 datas\\nlabel 2 has 342 datas\\nlabel 3 has 96 datas\\n'"
      ]
     },
     "execution_count": 24,
     "metadata": {},
     "output_type": "execute_result"
    }
   ],
   "source": [
    "labels = list(range(4))\n",
    "\n",
    "for label in labels:\n",
    "    temp_df = test_dataframe[test_dataframe['label'] == label]\n",
    "    print(f\"label {label} has {len(temp_df)} datas\")\n",
    "\n",
    "\"\"\" train\n",
    "label 0 has 491 datas\n",
    "label 1 has 3830 datas\n",
    "label 2 has 1785 datas\n",
    "label 3 has 809 datas\n",
    "\"\"\"\n",
    "\n",
    "\"\"\" test\n",
    "label 0 has 136 datas\n",
    "label 1 has 438 datas\n",
    "label 2 has 185 datas\n",
    "\"\"\"\n",
    "\n",
    "# 3300개 samplling 하자."
   ]
  },
  {
   "cell_type": "code",
   "execution_count": 28,
   "metadata": {},
   "outputs": [],
   "source": [
    "# 정상 통화 데이터에서 4000개 추가할 것\n",
    " \n",
    "normal_data = pd.read_excel(\"../data/normal_data.xlsx\", index_col=0)\n",
    "\n",
    "sampled_data = normal_data.sample(n = 3300, replace = False, random_state = 42, ignore_index = True)\n",
    "\n",
    "train_sampled = sampled_data[:3000]\n",
    "test_sampled = sampled_data[3000:]\n"
   ]
  },
  {
   "cell_type": "code",
   "execution_count": 29,
   "metadata": {},
   "outputs": [
    {
     "name": "stderr",
     "output_type": "stream",
     "text": [
      "C:\\Users\\SSAFY\\AppData\\Local\\Temp\\ipykernel_3168\\1826557673.py:1: SettingWithCopyWarning: \n",
      "A value is trying to be set on a copy of a slice from a DataFrame\n",
      "\n",
      "See the caveats in the documentation: https://pandas.pydata.org/pandas-docs/stable/user_guide/indexing.html#returning-a-view-versus-a-copy\n",
      "  train_sampled.rename(columns = {\"SENTENCE\" : \"text\"}, inplace=True)\n",
      "C:\\Users\\SSAFY\\AppData\\Local\\Temp\\ipykernel_3168\\1826557673.py:2: SettingWithCopyWarning: \n",
      "A value is trying to be set on a copy of a slice from a DataFrame.\n",
      "Try using .loc[row_indexer,col_indexer] = value instead\n",
      "\n",
      "See the caveats in the documentation: https://pandas.pydata.org/pandas-docs/stable/user_guide/indexing.html#returning-a-view-versus-a-copy\n",
      "  train_sampled['label'] = np.zeros([len(train_sampled)])\n",
      "C:\\Users\\SSAFY\\AppData\\Local\\Temp\\ipykernel_3168\\1826557673.py:3: SettingWithCopyWarning: \n",
      "A value is trying to be set on a copy of a slice from a DataFrame.\n",
      "Try using .loc[row_indexer,col_indexer] = value instead\n",
      "\n",
      "See the caveats in the documentation: https://pandas.pydata.org/pandas-docs/stable/user_guide/indexing.html#returning-a-view-versus-a-copy\n",
      "  train_sampled['augmented'] = np.zeros([len(train_sampled)])\n",
      "C:\\Users\\SSAFY\\AppData\\Local\\Temp\\ipykernel_3168\\1826557673.py:5: SettingWithCopyWarning: \n",
      "A value is trying to be set on a copy of a slice from a DataFrame\n",
      "\n",
      "See the caveats in the documentation: https://pandas.pydata.org/pandas-docs/stable/user_guide/indexing.html#returning-a-view-versus-a-copy\n",
      "  test_sampled.rename(columns = {\"SENTENCE\" : \"text\"}, inplace=True)\n",
      "C:\\Users\\SSAFY\\AppData\\Local\\Temp\\ipykernel_3168\\1826557673.py:6: SettingWithCopyWarning: \n",
      "A value is trying to be set on a copy of a slice from a DataFrame.\n",
      "Try using .loc[row_indexer,col_indexer] = value instead\n",
      "\n",
      "See the caveats in the documentation: https://pandas.pydata.org/pandas-docs/stable/user_guide/indexing.html#returning-a-view-versus-a-copy\n",
      "  test_sampled['label'] = np.zeros([len(test_sampled)])\n",
      "C:\\Users\\SSAFY\\AppData\\Local\\Temp\\ipykernel_3168\\1826557673.py:7: SettingWithCopyWarning: \n",
      "A value is trying to be set on a copy of a slice from a DataFrame.\n",
      "Try using .loc[row_indexer,col_indexer] = value instead\n",
      "\n",
      "See the caveats in the documentation: https://pandas.pydata.org/pandas-docs/stable/user_guide/indexing.html#returning-a-view-versus-a-copy\n",
      "  test_sampled['augmented'] = np.zeros([len(test_sampled)])\n"
     ]
    },
    {
     "data": {
      "text/html": [
       "<div>\n",
       "<style scoped>\n",
       "    .dataframe tbody tr th:only-of-type {\n",
       "        vertical-align: middle;\n",
       "    }\n",
       "\n",
       "    .dataframe tbody tr th {\n",
       "        vertical-align: top;\n",
       "    }\n",
       "\n",
       "    .dataframe thead th {\n",
       "        text-align: right;\n",
       "    }\n",
       "</style>\n",
       "<table border=\"1\" class=\"dataframe\">\n",
       "  <thead>\n",
       "    <tr style=\"text-align: right;\">\n",
       "      <th></th>\n",
       "      <th>text</th>\n",
       "      <th>label</th>\n",
       "      <th>augmented</th>\n",
       "    </tr>\n",
       "  </thead>\n",
       "  <tbody>\n",
       "    <tr>\n",
       "      <th>0</th>\n",
       "      <td>내일 와서 계약하겠습니다</td>\n",
       "      <td>0.0</td>\n",
       "      <td>0.0</td>\n",
       "    </tr>\n",
       "    <tr>\n",
       "      <th>1</th>\n",
       "      <td>이 제품은 스킨이랑 에센스랑 같이 되죠?</td>\n",
       "      <td>0.0</td>\n",
       "      <td>0.0</td>\n",
       "    </tr>\n",
       "    <tr>\n",
       "      <th>2</th>\n",
       "      <td>성인 두 명이에요</td>\n",
       "      <td>0.0</td>\n",
       "      <td>0.0</td>\n",
       "    </tr>\n",
       "    <tr>\n",
       "      <th>3</th>\n",
       "      <td>그릴 사용료가 얼마입니까?</td>\n",
       "      <td>0.0</td>\n",
       "      <td>0.0</td>\n",
       "    </tr>\n",
       "    <tr>\n",
       "      <th>4</th>\n",
       "      <td>남자 커트 비용은 얼마인가요?</td>\n",
       "      <td>0.0</td>\n",
       "      <td>0.0</td>\n",
       "    </tr>\n",
       "  </tbody>\n",
       "</table>\n",
       "</div>"
      ],
      "text/plain": [
       "                     text  label  augmented\n",
       "0           내일 와서 계약하겠습니다    0.0        0.0\n",
       "1  이 제품은 스킨이랑 에센스랑 같이 되죠?    0.0        0.0\n",
       "2               성인 두 명이에요    0.0        0.0\n",
       "3          그릴 사용료가 얼마입니까?    0.0        0.0\n",
       "4        남자 커트 비용은 얼마인가요?    0.0        0.0"
      ]
     },
     "execution_count": 29,
     "metadata": {},
     "output_type": "execute_result"
    }
   ],
   "source": [
    "train_sampled.rename(columns = {\"SENTENCE\" : \"text\"}, inplace=True)\n",
    "train_sampled['label'] = np.zeros([len(train_sampled)])\n",
    "train_sampled['augmented'] = np.zeros([len(train_sampled)])\n",
    "\n",
    "test_sampled.rename(columns = {\"SENTENCE\" : \"text\"}, inplace=True)\n",
    "test_sampled['label'] = np.zeros([len(test_sampled)])\n",
    "test_sampled['augmented'] = np.zeros([len(test_sampled)])\n",
    "\n",
    "train_sampled.head(5)"
   ]
  },
  {
   "cell_type": "code",
   "execution_count": 32,
   "metadata": {},
   "outputs": [],
   "source": [
    "train_data = pd.concat([train_dataframe, train_sampled], ignore_index=True)\n",
    "train_data = train_data.sample(frac=1).reset_index(drop = True)\n",
    "train_data.to_excel(\"train_data.xlsx\")\n",
    "\n",
    "test_data = pd.concat([test_dataframe, test_sampled], ignore_index=True)\n",
    "test_data = test_data.sample(frac=1).reset_index(drop = True)\n",
    "test_data.to_excel(\"test_data.xlsx\")"
   ]
  },
  {
   "cell_type": "code",
   "execution_count": null,
   "metadata": {},
   "outputs": [],
   "source": []
  }
 ],
 "metadata": {
  "kernelspec": {
   "display_name": "venv",
   "language": "python",
   "name": "python3"
  },
  "language_info": {
   "codemirror_mode": {
    "name": "ipython",
    "version": 3
   },
   "file_extension": ".py",
   "mimetype": "text/x-python",
   "name": "python",
   "nbconvert_exporter": "python",
   "pygments_lexer": "ipython3",
   "version": "3.10.11"
  },
  "orig_nbformat": 4
 },
 "nbformat": 4,
 "nbformat_minor": 2
}
