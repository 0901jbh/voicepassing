{
 "cells": [
  {
   "cell_type": "code",
   "execution_count": 1,
   "metadata": {},
   "outputs": [],
   "source": [
    "# 필요한 library import\n",
    "from googletrans import Translator\n",
    "import pandas as pd\n",
    "import numpy as np\n",
    "\n",
    "import tqdm\n",
    "import time"
   ]
  },
  {
   "cell_type": "code",
   "execution_count": 3,
   "metadata": {},
   "outputs": [],
   "source": [
    "# 파일 가져오기\n",
    "\n",
    "data_path = r\"../data/AnnotationData_TEST(JH).xlsx\"\n",
    "df = pd.read_excel(data_path, index_col=None)[['text', 'label']]\n",
    "\n",
    "# augmentated 여부 붙이기\n",
    "df['augmented'] = np.zeros([len(df)], dtype=np.int64)\n",
    "\n",
    "# label별 분류\n",
    "df_label_0 = df[df.label == 0] # 혐의 없음\n",
    "df_label_1 = df[df.label == 1] # 기관 사칭형\n",
    "df_label_2 = df[df.label == 2] # 대출 빙자형\n",
    "df_label_3 = df[df.label == 3] # 기타"
   ]
  },
  {
   "attachments": {},
   "cell_type": "markdown",
   "metadata": {},
   "source": [
    "# 1. Back Translation"
   ]
  },
  {
   "cell_type": "code",
   "execution_count": 4,
   "metadata": {},
   "outputs": [],
   "source": [
    "class BackTranslator(Translator):\n",
    "\n",
    "    def __call__(self, text, aux_lang = \"en\"):\n",
    "\n",
    "        def __init__(self):\n",
    "            super(BackTranslator, self).__init__()\n",
    "\n",
    "        # 입력값 유효성 검증\n",
    "        assert isinstance(text, str), \"입력 문장은 string 형식이어야 합니다.\"\n",
    "        assert aux_lang in [\"en\", \"zh-cn\", \"ja\"], \"경유 언어는 \\\"en\\\", \\\"zh-cn\\\", \\\"ja\\\"중 하나여야 합니다.\"\n",
    "\n",
    "        aux_text = super().translate(text, src=\"ko\", dest=aux_lang).text\n",
    "        return_text = super().translate(aux_text, src=aux_lang, dest=\"ko\")\n",
    "\n",
    "        return return_text.text"
   ]
  },
  {
   "cell_type": "code",
   "execution_count": 5,
   "metadata": {},
   "outputs": [
    {
     "name": "stderr",
     "output_type": "stream",
     "text": [
      "100%|██████████| 50/50 [01:56<00:00,  2.33s/it]\n",
      "100%|██████████| 50/50 [03:25<00:00,  4.10s/it]\n",
      "100%|██████████| 50/50 [02:04<00:00,  2.49s/it]\n",
      "100%|██████████| 1/1 [07:26<00:00, 446.12s/it]\n"
     ]
    }
   ],
   "source": [
    "# label별로 backtranslation 하기\n",
    "\n",
    "bt = BackTranslator()\n",
    "dfs = [(2, df_label_2)] # 1이 제일 많으므로 1을 제일 마지막으로 수행\n",
    "failed = []\n",
    "\n",
    "for label, df in tqdm.tqdm(dfs):\n",
    "    temp = []\n",
    "\n",
    "    # 안정성을 위해 비효율적이더라도 나눠서 실행\n",
    "    for original_text in tqdm.tqdm(df.text.values): # ko -> eng -> ko\n",
    "\n",
    "        try:\n",
    "            bt_text = bt(original_text)\n",
    "            temp.append([bt_text, label, 1])\n",
    "        except:\n",
    "            failed.append(original_text)\n",
    "            continue\n",
    "\n",
    "    temp_df = pd.DataFrame(temp, columns =['text', 'label', 'augmented'])\n",
    "    temp_df.to_csv(fr\"../data/{label}_en_test.csv\")\n",
    "\n",
    "    temp = []\n",
    "    for original_text in tqdm.tqdm(df.text.values): # ko -> ja-> ko\n",
    "\n",
    "        try:\n",
    "            bt_text = bt(original_text, aux_lang=\"ja\")\n",
    "            temp.append([bt_text, label, 1])\n",
    "        except:\n",
    "            failed.append(original_text)\n",
    "            continue\n",
    "\n",
    "\n",
    "    temp_df = pd.DataFrame(temp, columns =['text', 'label', 'augmented'])\n",
    "    temp_df.to_csv(fr\"../data/{label}_ja_test.csv\")\n",
    "\n",
    "    temp = []\n",
    "    for original_text in tqdm.tqdm(df.text.values): # ko -> zh_cn -> ko\n",
    "\n",
    "        try:\n",
    "            bt_text = bt(original_text, aux_lang=\"zh-cn\")\n",
    "            temp.append([bt_text, label, 1])\n",
    "        except:\n",
    "            failed.append(original_text)\n",
    "            continue\n",
    "\n",
    "    temp_df = pd.DataFrame(temp, columns =['text', 'label', 'augmented'])\n",
    "    temp_df.to_csv(fr\"../data/{label}_zh_test.csv\")"
   ]
  },
  {
   "attachments": {},
   "cell_type": "markdown",
   "metadata": {},
   "source": [
    "# 결과 병합"
   ]
  },
  {
   "cell_type": "code",
   "execution_count": 6,
   "metadata": {},
   "outputs": [],
   "source": [
    "import os\n",
    "import re"
   ]
  },
  {
   "cell_type": "code",
   "execution_count": 24,
   "metadata": {},
   "outputs": [],
   "source": [
    "# bt & augmented data\n",
    "folder_path = r\"../data/\"\n",
    "files = os.listdir(folder_path)\n",
    "\n",
    "label_1 = [file for file in files if file.startswith('1')]\n",
    "label_2 = [file for file in files if file.startswith('2')]\n",
    "label_3 = [file for file in files if file.startswith('3')]\n",
    "\n",
    "labels = [(1, label_1), (2, label_2), (3,label_3)]\n",
    "\n",
    "dfs = []\n",
    "\n",
    "for label_idx, label in labels:\n",
    "\n",
    "    temp_dfs = []\n",
    "\n",
    "    for file in label:\n",
    "        df = pd.read_csv(os.path.join(folder_path, file), index_col = 0)\n",
    "        df['label'] = np.array([label_idx] * len(df))\n",
    "        temp_dfs.append(df)\n",
    "\n",
    "    temp_dfs = pd.concat(temp_dfs)\n",
    "    dfs.append(temp_dfs)\n",
    "\n",
    "dfs = pd.concat(dfs)\n"
   ]
  },
  {
   "cell_type": "code",
   "execution_count": 25,
   "metadata": {},
   "outputs": [],
   "source": [
    "english_words_pattern = re.compile(r'\\b[a-zA-Z]+\\b')\n",
    "english_mask = dfs['text'].apply(lambda row: bool(english_words_pattern.search(str(row))))\n",
    "dfs_aft = dfs[~english_mask]"
   ]
  },
  {
   "cell_type": "code",
   "execution_count": 26,
   "metadata": {},
   "outputs": [],
   "source": [
    "dfs_aft.to_csv(\"../data/dfs_bt_and_augmented.csv\")"
   ]
  },
  {
   "cell_type": "code",
   "execution_count": 30,
   "metadata": {},
   "outputs": [],
   "source": [
    "# test\n",
    "\n",
    "folder_path = r\"../data/\"\n",
    "files = [file for file in os.listdir(folder_path) if file.startswith('test')]\n",
    "\n",
    "dfs = []\n",
    "\n",
    "for file in files:\n",
    "    df = pd.read_csv(os.path.join(folder_path, file), index_col = 0)\n",
    "    dfs.append(df)\n",
    "\n",
    "dfs = pd.concat(dfs)"
   ]
  },
  {
   "cell_type": "code",
   "execution_count": 32,
   "metadata": {},
   "outputs": [],
   "source": [
    "dfs.to_csv(\"test_data_concatenated.csv\")"
   ]
  },
  {
   "cell_type": "code",
   "execution_count": null,
   "metadata": {},
   "outputs": [],
   "source": []
  }
 ],
 "metadata": {
  "kernelspec": {
   "display_name": "venv",
   "language": "python",
   "name": "python3"
  },
  "language_info": {
   "codemirror_mode": {
    "name": "ipython",
    "version": 3
   },
   "file_extension": ".py",
   "mimetype": "text/x-python",
   "name": "python",
   "nbconvert_exporter": "python",
   "pygments_lexer": "ipython3",
   "version": "3.10.11"
  },
  "orig_nbformat": 4
 },
 "nbformat": 4,
 "nbformat_minor": 2
}
