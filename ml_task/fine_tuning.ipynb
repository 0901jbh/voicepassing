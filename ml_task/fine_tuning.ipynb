{
 "cells": [
  {
   "cell_type": "code",
   "execution_count": 1,
   "metadata": {},
   "outputs": [],
   "source": [
    "from transformers import DistilBertModel"
   ]
  },
  {
   "cell_type": "code",
   "execution_count": 2,
   "metadata": {},
   "outputs": [
    {
     "name": "stderr",
     "output_type": "stream",
     "text": [
      "Some weights of the model checkpoint at distilbert-base-multilingual-cased were not used when initializing DistilBertModel: ['vocab_transform.weight', 'vocab_transform.bias', 'vocab_projector.weight', 'vocab_projector.bias', 'vocab_layer_norm.weight', 'vocab_layer_norm.bias']\n",
      "- This IS expected if you are initializing DistilBertModel from the checkpoint of a model trained on another task or with another architecture (e.g. initializing a BertForSequenceClassification model from a BertForPreTraining model).\n",
      "- This IS NOT expected if you are initializing DistilBertModel from the checkpoint of a model that you expect to be exactly identical (initializing a BertForSequenceClassification model from a BertForSequenceClassification model).\n"
     ]
    }
   ],
   "source": [
    "model = DistilBertModel.from_pretrained(\"distilbert-base-multilingual-cased\")"
   ]
  },
  {
   "cell_type": "code",
   "execution_count": 4,
   "metadata": {},
   "outputs": [
    {
     "name": "stdout",
     "output_type": "stream",
     "text": [
      "embeddings.word_embeddings.weight\n",
      "embeddings.position_embeddings.weight\n",
      "embeddings.LayerNorm.weight\n",
      "embeddings.LayerNorm.bias\n",
      "transformer.layer.0.attention.q_lin.weight\n",
      "transformer.layer.0.attention.q_lin.bias\n",
      "transformer.layer.0.attention.k_lin.weight\n",
      "transformer.layer.0.attention.k_lin.bias\n",
      "transformer.layer.0.attention.v_lin.weight\n",
      "transformer.layer.0.attention.v_lin.bias\n",
      "transformer.layer.0.attention.out_lin.weight\n",
      "transformer.layer.0.attention.out_lin.bias\n",
      "transformer.layer.0.sa_layer_norm.weight\n",
      "transformer.layer.0.sa_layer_norm.bias\n",
      "transformer.layer.0.ffn.lin1.weight\n",
      "transformer.layer.0.ffn.lin1.bias\n",
      "transformer.layer.0.ffn.lin2.weight\n",
      "transformer.layer.0.ffn.lin2.bias\n",
      "transformer.layer.0.output_layer_norm.weight\n",
      "transformer.layer.0.output_layer_norm.bias\n",
      "transformer.layer.1.attention.q_lin.weight\n",
      "transformer.layer.1.attention.q_lin.bias\n",
      "transformer.layer.1.attention.k_lin.weight\n",
      "transformer.layer.1.attention.k_lin.bias\n",
      "transformer.layer.1.attention.v_lin.weight\n",
      "transformer.layer.1.attention.v_lin.bias\n",
      "transformer.layer.1.attention.out_lin.weight\n",
      "transformer.layer.1.attention.out_lin.bias\n",
      "transformer.layer.1.sa_layer_norm.weight\n",
      "transformer.layer.1.sa_layer_norm.bias\n",
      "transformer.layer.1.ffn.lin1.weight\n",
      "transformer.layer.1.ffn.lin1.bias\n",
      "transformer.layer.1.ffn.lin2.weight\n",
      "transformer.layer.1.ffn.lin2.bias\n",
      "transformer.layer.1.output_layer_norm.weight\n",
      "transformer.layer.1.output_layer_norm.bias\n",
      "transformer.layer.2.attention.q_lin.weight\n",
      "transformer.layer.2.attention.q_lin.bias\n",
      "transformer.layer.2.attention.k_lin.weight\n",
      "transformer.layer.2.attention.k_lin.bias\n",
      "transformer.layer.2.attention.v_lin.weight\n",
      "transformer.layer.2.attention.v_lin.bias\n",
      "transformer.layer.2.attention.out_lin.weight\n",
      "transformer.layer.2.attention.out_lin.bias\n",
      "transformer.layer.2.sa_layer_norm.weight\n",
      "transformer.layer.2.sa_layer_norm.bias\n",
      "transformer.layer.2.ffn.lin1.weight\n",
      "transformer.layer.2.ffn.lin1.bias\n",
      "transformer.layer.2.ffn.lin2.weight\n",
      "transformer.layer.2.ffn.lin2.bias\n",
      "transformer.layer.2.output_layer_norm.weight\n",
      "transformer.layer.2.output_layer_norm.bias\n",
      "transformer.layer.3.attention.q_lin.weight\n",
      "transformer.layer.3.attention.q_lin.bias\n",
      "transformer.layer.3.attention.k_lin.weight\n",
      "transformer.layer.3.attention.k_lin.bias\n",
      "transformer.layer.3.attention.v_lin.weight\n",
      "transformer.layer.3.attention.v_lin.bias\n",
      "transformer.layer.3.attention.out_lin.weight\n",
      "transformer.layer.3.attention.out_lin.bias\n",
      "transformer.layer.3.sa_layer_norm.weight\n",
      "transformer.layer.3.sa_layer_norm.bias\n",
      "transformer.layer.3.ffn.lin1.weight\n",
      "transformer.layer.3.ffn.lin1.bias\n",
      "transformer.layer.3.ffn.lin2.weight\n",
      "transformer.layer.3.ffn.lin2.bias\n",
      "transformer.layer.3.output_layer_norm.weight\n",
      "transformer.layer.3.output_layer_norm.bias\n",
      "transformer.layer.4.attention.q_lin.weight\n",
      "transformer.layer.4.attention.q_lin.bias\n",
      "transformer.layer.4.attention.k_lin.weight\n",
      "transformer.layer.4.attention.k_lin.bias\n",
      "transformer.layer.4.attention.v_lin.weight\n",
      "transformer.layer.4.attention.v_lin.bias\n",
      "transformer.layer.4.attention.out_lin.weight\n",
      "transformer.layer.4.attention.out_lin.bias\n",
      "transformer.layer.4.sa_layer_norm.weight\n",
      "transformer.layer.4.sa_layer_norm.bias\n",
      "transformer.layer.4.ffn.lin1.weight\n",
      "transformer.layer.4.ffn.lin1.bias\n",
      "transformer.layer.4.ffn.lin2.weight\n",
      "transformer.layer.4.ffn.lin2.bias\n",
      "transformer.layer.4.output_layer_norm.weight\n",
      "transformer.layer.4.output_layer_norm.bias\n",
      "transformer.layer.5.attention.q_lin.weight\n",
      "transformer.layer.5.attention.q_lin.bias\n",
      "transformer.layer.5.attention.k_lin.weight\n",
      "transformer.layer.5.attention.k_lin.bias\n",
      "transformer.layer.5.attention.v_lin.weight\n",
      "transformer.layer.5.attention.v_lin.bias\n",
      "transformer.layer.5.attention.out_lin.weight\n",
      "transformer.layer.5.attention.out_lin.bias\n",
      "transformer.layer.5.sa_layer_norm.weight\n",
      "transformer.layer.5.sa_layer_norm.bias\n",
      "transformer.layer.5.ffn.lin1.weight\n",
      "transformer.layer.5.ffn.lin1.bias\n",
      "transformer.layer.5.ffn.lin2.weight\n",
      "transformer.layer.5.ffn.lin2.bias\n",
      "transformer.layer.5.output_layer_norm.weight\n",
      "transformer.layer.5.output_layer_norm.bias\n"
     ]
    }
   ],
   "source": [
    "for name, parameter in model.named_parameters():\n",
    "    print(name)"
   ]
  },
  {
   "cell_type": "code",
   "execution_count": null,
   "metadata": {},
   "outputs": [],
   "source": []
  }
 ],
 "metadata": {
  "kernelspec": {
   "display_name": "venv",
   "language": "python",
   "name": "python3"
  },
  "language_info": {
   "codemirror_mode": {
    "name": "ipython",
    "version": 3
   },
   "file_extension": ".py",
   "mimetype": "text/x-python",
   "name": "python",
   "nbconvert_exporter": "python",
   "pygments_lexer": "ipython3",
   "version": "3.10.11"
  },
  "orig_nbformat": 4
 },
 "nbformat": 4,
 "nbformat_minor": 2
}
