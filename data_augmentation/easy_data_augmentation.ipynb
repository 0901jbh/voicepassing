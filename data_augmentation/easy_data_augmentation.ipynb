{
 "cells": [
  {
   "cell_type": "code",
   "execution_count": 70,
   "metadata": {},
   "outputs": [],
   "source": [
    "import pandas as pd\n",
    "import numpy as np\n",
    "import pickle\n",
    "from ksenticnet_kaist import ksenticnet"
   ]
  },
  {
   "attachments": {},
   "cell_type": "markdown",
   "metadata": {},
   "source": [
    "# 1. ksenticnet에서 유의어만 추출"
   ]
  },
  {
   "cell_type": "code",
   "execution_count": 90,
   "metadata": {},
   "outputs": [],
   "source": [
    "word_dic = dict()\n",
    "\n",
    "for key, value in ksenticnet.items():\n",
    "    temp_value = []\n",
    "    for v in value:\n",
    "        if v.isalpha() and not v.isupper() and not v.islower():\n",
    "            temp_value.append(v)\n",
    "\n",
    "    if temp_value:\n",
    "        word_dic[key] = temp_value"
   ]
  },
  {
   "attachments": {},
   "cell_type": "markdown",
   "metadata": {},
   "source": [
    "# 2. kwn (Korean WordNet)과의 병합"
   ]
  },
  {
   "cell_type": "code",
   "execution_count": 91,
   "metadata": {},
   "outputs": [],
   "source": [
    "with open(r\"../data/wordnet.pickle\", \"rb\") as f:\n",
    "    kwn = pickle.load(f)\n",
    "\n",
    "for key, value in kwn.items():\n",
    "\n",
    "    if word_dic.get(key): # key가 있다면\n",
    "        value_1 = set(word_dic[key])\n",
    "        value_2 = set(kwn[key])\n",
    "        word_dic[key] = list(value_1 | value_2)\n",
    "\n",
    "    elif len(value) > 1:\n",
    "        word_dic[key] = value    "
   ]
  },
  {
   "attachments": {},
   "cell_type": "markdown",
   "metadata": {},
   "source": [
    "# 3. EDA"
   ]
  },
  {
   "cell_type": "code",
   "execution_count": 124,
   "metadata": {},
   "outputs": [],
   "source": [
    "import kss\n",
    "import random"
   ]
  },
  {
   "cell_type": "code",
   "execution_count": 143,
   "metadata": {},
   "outputs": [],
   "source": [
    "def synonym_replacement(text, num_replacement):\n",
    "\n",
    "    morphemes = kss.split_morphemes(text, drop_space=False)\n",
    "    morphemes_copy = list(enumerate(morphemes.copy()))\n",
    "\n",
    "    cnt_replacement = 0\n",
    "\n",
    "    # 순서 섞기\n",
    "    random.shuffle(morphemes_copy)\n",
    "\n",
    "    for idx, (morph, pos) in morphemes_copy:\n",
    "\n",
    "        if pos.startswith(\"N\") or pos.startswith(\"V\"):\n",
    "            dict_value = word_dic.get(morph)\n",
    "\n",
    "            if dict_value:\n",
    "                replace_word = set(dict_value).pop()\n",
    "                morphemes[idx] = (replace_word, pos)\n",
    "                cnt_replacement += 1\n",
    "            \n",
    "        if cnt_replacement > num_replacement:\n",
    "            break\n",
    "\n",
    "    # 문서 재배치\n",
    "    text = \"\"\n",
    "\n",
    "    for morph, _ in morphemes:\n",
    "        text += morph\n",
    "\n",
    "    return text"
   ]
  },
  {
   "cell_type": "code",
   "execution_count": 163,
   "metadata": {},
   "outputs": [
    {
     "name": "stdout",
     "output_type": "stream",
     "text": [
      "기업 동료 분들과 다녀왔는데 분위기도 좋고 음식도 맛있었어요 다만, 강남 토끼노정이 강남 쉑쉑버거 소로로 쭉 올라가야 하는데 다들 쉑쉑버거의 유혹에 넘어갈 뻔 했답니다\n",
      "회사 동료소로 분들과 다녀왔는데 분위기도 좋고 음식노정도 맛있었어요 다만, 강남 토끼정이 강남 쉑쉑버거 골목길로기업 쭉 올라가야 하는데 다들 쉑쉑버거의 유혹에 넘어갈 뻔 했답니다\n"
     ]
    }
   ],
   "source": [
    "text = \"회사 동료 분들과 다녀왔는데 분위기도 좋고 음식도 맛있었어요 다만, 강남 토끼정이 강남 쉑쉑버거 골목길로 쭉 올라가야 하는데 다들 쉑쉑버거의 유혹에 넘어갈 뻔 했답니다\"\n",
    "t = synonym_replacement(text, 5)\n",
    "tt = random_insertion(text, 5)\n",
    "\n",
    "print(t)\n",
    "print(tt)"
   ]
  },
  {
   "cell_type": "code",
   "execution_count": 162,
   "metadata": {},
   "outputs": [],
   "source": [
    "def random_insertion(text, num_replacement):\n",
    "    \n",
    "    morphemes = kss.split_morphemes(text, drop_space=False)\n",
    "    morphemes_copy = list(enumerate(morphemes.copy()))\n",
    "\n",
    "    cnt_replacement = 0\n",
    "    inserted = []\n",
    "\n",
    "    # 순서 섞기\n",
    "    random.shuffle(morphemes_copy)\n",
    "\n",
    "    for idx, (morph, pos) in morphemes_copy:\n",
    "\n",
    "        if pos.startswith(\"N\") or pos.startswith(\"V\"):\n",
    "            dict_value = word_dic.get(morph)\n",
    "\n",
    "            if dict_value:\n",
    "                replace_word = set(dict_value).pop()\n",
    "                rand_int = random.randint(0, len(morphemes_copy)) + random.random()\n",
    "                inserted.append((rand_int, (replace_word, pos)))\n",
    "                cnt_replacement += 1\n",
    "            \n",
    "        if cnt_replacement > num_replacement:\n",
    "            break\n",
    "\n",
    "    # 문서 재배치\n",
    "    text = \"\"\n",
    "    morphemes_copy.extend(inserted)\n",
    "    morphemes_copy.sort()\n",
    "\n",
    "    for _, (morph, _) in morphemes_copy:\n",
    "        text += morph\n",
    "\n",
    "    return text"
   ]
  },
  {
   "cell_type": "code",
   "execution_count": null,
   "metadata": {},
   "outputs": [],
   "source": [
    "def random_deletetion(text, num_del):\n",
    "    pass"
   ]
  }
 ],
 "metadata": {
  "kernelspec": {
   "display_name": "venv",
   "language": "python",
   "name": "python3"
  },
  "language_info": {
   "codemirror_mode": {
    "name": "ipython",
    "version": 3
   },
   "file_extension": ".py",
   "mimetype": "text/x-python",
   "name": "python",
   "nbconvert_exporter": "python",
   "pygments_lexer": "ipython3",
   "version": "3.10.11"
  },
  "orig_nbformat": 4
 },
 "nbformat": 4,
 "nbformat_minor": 2
}
