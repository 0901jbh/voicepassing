{
 "cells": [
  {
   "cell_type": "code",
   "execution_count": 9,
   "metadata": {},
   "outputs": [],
   "source": [
    "# 필요한 library import\n",
    "from googletrans import Translator\n",
    "import pandas as pd\n",
    "import numpy as np\n",
    "\n",
    "import tqdm\n",
    "import time"
   ]
  },
  {
   "cell_type": "code",
   "execution_count": 2,
   "metadata": {},
   "outputs": [],
   "source": [
    "# 파일 가져오기\n",
    "\n",
    "data_path = r\"../data/annotated_data_final.xlsx\"\n",
    "df = pd.read_excel(data_path, index_col=None)[['text', 'label']]\n",
    "\n",
    "# augmentated 여부 붙이기\n",
    "df['augmented'] = np.zeros([len(df)], dtype=np.int64)\n",
    "\n",
    "# label별 분류\n",
    "df_label_0 = df[df.label == 0] # 혐의 없음\n",
    "df_label_1 = df[df.label == 1] # 기관 사칭형\n",
    "df_label_2 = df[df.label == 2] # 대출 빙자형\n",
    "df_label_3 = df[df.label == 3] # 기타"
   ]
  },
  {
   "attachments": {},
   "cell_type": "markdown",
   "metadata": {},
   "source": [
    "# 1. Back Translation"
   ]
  },
  {
   "cell_type": "code",
   "execution_count": 3,
   "metadata": {},
   "outputs": [],
   "source": [
    "class BackTranslator(Translator):\n",
    "\n",
    "    def __call__(self, text, aux_lang = \"en\"):\n",
    "\n",
    "        def __init__(self):\n",
    "            super(BackTranslator, self).__init__()\n",
    "\n",
    "        # 입력값 유효성 검증\n",
    "        assert isinstance(text, str), \"입력 문장은 string 형식이어야 합니다.\"\n",
    "        assert aux_lang in [\"en\", \"zh-cn\", \"ja\"], \"경유 언어는 \\\"en\\\", \\\"zh-cn\\\", \\\"ja\\\"중 하나여야 합니다.\"\n",
    "\n",
    "        aux_text = super().translate(text, src=\"ko\", dest=aux_lang).text\n",
    "        return_text = super().translate(aux_text, src=aux_lang, dest=\"ko\")\n",
    "\n",
    "        return return_text.text"
   ]
  },
  {
   "cell_type": "code",
   "execution_count": 25,
   "metadata": {},
   "outputs": [
    {
     "name": "stderr",
     "output_type": "stream",
     "text": [
      "100%|██████████| 214/214 [02:24<00:00,  1.49it/s]\n",
      "100%|██████████| 214/214 [11:53<00:00,  3.34s/it]\n",
      "100%|██████████| 214/214 [06:51<00:00,  1.93s/it]\n",
      "100%|██████████| 97/97 [03:15<00:00,  2.02s/it]\n",
      "100%|██████████| 97/97 [05:24<00:00,  3.35s/it]\n",
      "100%|██████████| 97/97 [02:58<00:00,  1.84s/it]\n",
      "100%|██████████| 1277/1277 [42:55<00:00,  2.02s/it]\n",
      "100%|██████████| 1277/1277 [1:16:40<00:00,  3.60s/it]\n",
      "100%|██████████| 1277/1277 [47:50<00:00,  2.25s/it]\n",
      "100%|██████████| 3/3 [3:20:15<00:00, 4005.31s/it]\n"
     ]
    }
   ],
   "source": [
    "# label별로 backtranslation 하기\n",
    "\n",
    "bt = BackTranslator()\n",
    "dfs = [(2, df_label_2), (3, df_label_3), (1, df_label_1)] # 1이 제일 많으므로 1을 제일 마지막으로 수행\n",
    "failed = []\n",
    "\n",
    "for label, df in tqdm.tqdm(dfs):\n",
    "    temp = []\n",
    "\n",
    "    # 안정성을 위해 비효율적이더라도 나눠서 실행\n",
    "    for original_text in tqdm.tqdm(df.text.values): # ko -> eng -> ko\n",
    "\n",
    "        try:\n",
    "            bt_text = bt(original_text)\n",
    "            temp.append([bt_text, 2, 1])\n",
    "        except:\n",
    "            failed.append(original_text)\n",
    "            continue\n",
    "\n",
    "    temp_df = pd.DataFrame(temp, columns =['text', 'label', 'augmented'])\n",
    "    temp_df.to_csv(fr\"../data/{label}_en.csv\")\n",
    "\n",
    "    temp = []\n",
    "    for original_text in tqdm.tqdm(df.text.values): # ko -> ja-> ko\n",
    "\n",
    "        try:\n",
    "            bt_text = bt(original_text, aux_lang=\"ja\")\n",
    "            temp.append([bt_text, 2, 1])\n",
    "        except:\n",
    "            failed.append(original_text)\n",
    "            continue\n",
    "\n",
    "\n",
    "    temp_df = pd.DataFrame(temp, columns =['text', 'label', 'augmented'])\n",
    "    temp_df.to_csv(fr\"../data/{label}_ja.csv\")\n",
    "\n",
    "    temp = []\n",
    "    for original_text in tqdm.tqdm(df.text.values): # ko -> zh_cn -> ko\n",
    "\n",
    "        try:\n",
    "            bt_text = bt(original_text, aux_lang=\"zh-cn\")\n",
    "            temp.append([bt_text, 2, 1])\n",
    "        except:\n",
    "            failed.append(original_text)\n",
    "            continue\n",
    "\n",
    "    temp_df = pd.DataFrame(temp, columns =['text', 'label', 'augmented'])\n",
    "    temp_df.to_csv(fr\"../data/{label}_zh.csv\")"
   ]
  },
  {
   "attachments": {},
   "cell_type": "markdown",
   "metadata": {},
   "source": [
    "# 결과 병합"
   ]
  },
  {
   "cell_type": "code",
   "execution_count": 26,
   "metadata": {},
   "outputs": [],
   "source": [
    "import os\n",
    "import re"
   ]
  },
  {
   "cell_type": "code",
   "execution_count": 36,
   "metadata": {},
   "outputs": [],
   "source": [
    "folder_path = r\"../data\"\n",
    "files = [file_name for file_name in os.listdir(folder_path) if file_name[0] in ['2', '3']]\n",
    "\n",
    "dfs = []\n",
    "\n",
    "for file in files:\n",
    "    df = pd.read_csv(os.path.join(folder_path, file), index_col = 0)\n",
    "    dfs.append(df)\n",
    "\n",
    "dfs = pd.concat(dfs)\n"
   ]
  },
  {
   "cell_type": "code",
   "execution_count": 55,
   "metadata": {},
   "outputs": [],
   "source": [
    "english_words_pattern = re.compile(r'\\b[a-zA-Z]+\\b')\n",
    "english_mask = dfs['text'].apply(lambda row: bool(english_words_pattern.search(str(row))))\n",
    "dfs_aft = dfs[~english_mask]"
   ]
  },
  {
   "cell_type": "code",
   "execution_count": 56,
   "metadata": {},
   "outputs": [],
   "source": [
    "dfs_aft.to_csv(\"../data/dfs_aft.csv\")"
   ]
  },
  {
   "cell_type": "code",
   "execution_count": null,
   "metadata": {},
   "outputs": [],
   "source": []
  }
 ],
 "metadata": {
  "kernelspec": {
   "display_name": "venv",
   "language": "python",
   "name": "python3"
  },
  "language_info": {
   "codemirror_mode": {
    "name": "ipython",
    "version": 3
   },
   "file_extension": ".py",
   "mimetype": "text/x-python",
   "name": "python",
   "nbconvert_exporter": "python",
   "pygments_lexer": "ipython3",
   "version": "3.10.11"
  },
  "orig_nbformat": 4
 },
 "nbformat": 4,
 "nbformat_minor": 2
}
